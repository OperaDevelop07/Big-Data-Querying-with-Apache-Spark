{
 "cells": [
  {
   "cell_type": "markdown",
   "id": "interior-daisy",
   "metadata": {},
   "source": [
    "# Initialize Spark Environment,set configuration"
   ]
  },
  {
   "cell_type": "code",
   "execution_count": 1,
   "id": "broken-lindsay",
   "metadata": {},
   "outputs": [],
   "source": [
    "import findspark\n",
    "findspark.init()\n",
    "\n",
    "from pyspark import SparkContext,SparkConf\n",
    "from pyspark.sql import SparkSession\n",
    "from sparkmeasure import StageMetrics"
   ]
  },
  {
   "cell_type": "code",
   "execution_count": 90,
   "id": "mineral-hawaii",
   "metadata": {},
   "outputs": [],
   "source": [
    "#spark.stop() #execute this to stop current spark context"
   ]
  },
  {
   "cell_type": "code",
   "execution_count": 2,
   "id": "muslim-transcript",
   "metadata": {},
   "outputs": [],
   "source": [
    "from pyspark.sql.functions import desc,asc\n",
    "import regex\n",
    "from pyspark.sql.functions import lower, col\n",
    "from pyspark.sql.types import *\n",
    "from pyspark.sql.functions import *\n",
    "from pyspark.sql.functions import from_unixtime, hour, dayofyear\n",
    "import re\n",
    "from pyspark.sql import Window"
   ]
  },
  {
   "cell_type": "code",
   "execution_count": 3,
   "id": "gross-heart",
   "metadata": {},
   "outputs": [],
   "source": [
    "#local node all cores\n",
    "spark= SparkSession.builder.master(\"local[*]\").config(\"spark.jars\",\"C:\\spark-measure_2.11-0.13.jar\").appName(\"MovieLens\").getOrCreate()"
   ]
  },
  {
   "cell_type": "code",
   "execution_count": 82,
   "id": "increasing-subsection",
   "metadata": {},
   "outputs": [],
   "source": [
    "#config 1\n",
    "#spark = SparkSession.builder.appName(\"standalone-cluster-MovieLens\").master(\"spark://192.168.56.1:7077\").config(\"spark.driver.memory\",\"1G\").config(\"spark.driver.cores\",'1').config(\"spark.executor.memory\",'1G').config(\"spark.executor.cores\",'1').config('spark.cores.max','2').config(\"spark.jars\",\"C:\\spark-measure_2.11-0.13.jar\").getOrCreate()\n",
    "\n",
    "#config 2\n",
    "#spark = SparkSession.builder.appName(\"standalone-cluster-MovieLens\").master(\"spark://192.168.56.1:7077\").config(\"spark.driver.memory\",\"1G\").config(\"spark.driver.cores\",'1').config(\"spark.executor.memory\",'1500M').config(\"spark.executor.cores\",'2').config('spark.cores.max','4').config(\"spark.jars\",\"C:\\spark-measure_2.11-0.13.jar\").getOrCreate()        "
   ]
  },
  {
   "cell_type": "code",
   "execution_count": 73,
   "id": "outside-onion",
   "metadata": {},
   "outputs": [],
   "source": [
    "#config 3 ,uncomment any of these configurations to run them properly in their own\n",
    "#spark = SparkSession.builder.appName(\"standalone-cluster-MovieLens\").master(\"spark://192.168.56.1:7077\").config(\"spark.driver.memory\",\"1500M\").config(\"spark.driver.cores\",'1').config(\"spark.executor.memory\",'1G').config(\"spark.executor.cores\",'2').config('spark.cores.max','4').config(\"spark.jars\",\"C:\\spark-measure_2.11-0.13.jar\").getOrCreate()        "
   ]
  },
  {
   "cell_type": "code",
   "execution_count": 83,
   "id": "tutorial-transaction",
   "metadata": {},
   "outputs": [
    {
     "data": {
      "text/html": [
       "\n",
       "            <div>\n",
       "                <p><b>SparkSession - in-memory</b></p>\n",
       "                \n",
       "        <div>\n",
       "            <p><b>SparkContext</b></p>\n",
       "\n",
       "            <p><a href=\"http://192.168.56.1:4040\">Spark UI</a></p>\n",
       "\n",
       "            <dl>\n",
       "              <dt>Version</dt>\n",
       "                <dd><code>v2.4.7</code></dd>\n",
       "              <dt>Master</dt>\n",
       "                <dd><code>spark://192.168.56.1:7077</code></dd>\n",
       "              <dt>AppName</dt>\n",
       "                <dd><code>standalone-cluster-MovieLens</code></dd>\n",
       "            </dl>\n",
       "        </div>\n",
       "        \n",
       "            </div>\n",
       "        "
      ],
      "text/plain": [
       "<pyspark.sql.session.SparkSession at 0x24a0156eda0>"
      ]
     },
     "execution_count": 83,
     "metadata": {},
     "output_type": "execute_result"
    }
   ],
   "source": [
    "spark #spark ui"
   ]
  },
  {
   "cell_type": "markdown",
   "id": "hairy-shade",
   "metadata": {},
   "source": [
    "# Load Datasets"
   ]
  },
  {
   "cell_type": "code",
   "execution_count": 84,
   "id": "ecological-microphone",
   "metadata": {},
   "outputs": [],
   "source": [
    "df_movies = (spark.read\n",
    "             .format('csv')\n",
    "             .option('header','true')\n",
    "             .option('delimiter',\",\")\n",
    "             .option('inferSchema','true')#assigns correct data types to columns otherwise we read them as strings\n",
    "             .load(\"C:\\MovieLens20M_dataset\\movie.csv\"))"
   ]
  },
  {
   "cell_type": "code",
   "execution_count": 91,
   "id": "supported-count",
   "metadata": {},
   "outputs": [],
   "source": [
    "df_movies.show(truncate=False)"
   ]
  },
  {
   "cell_type": "code",
   "execution_count": 85,
   "id": "positive-victory",
   "metadata": {},
   "outputs": [],
   "source": [
    "stagemetrics = StageMetrics(spark)#create a stagemetrics object to user for measurement"
   ]
  },
  {
   "cell_type": "code",
   "execution_count": 86,
   "id": "current-beach",
   "metadata": {},
   "outputs": [],
   "source": [
    "df_rating = (spark.read\n",
    "             .format('csv')\n",
    "             .option('header','true')\n",
    "             .option('delimiter',\",\")\n",
    "             .option('inferSchema','true')#assigns correct data types to columns otherwise we read them as strings\n",
    "             .load(\"C:/MovieLens20M_dataset/rating.csv\"))"
   ]
  },
  {
   "cell_type": "code",
   "execution_count": 87,
   "id": "physical-firewall",
   "metadata": {},
   "outputs": [],
   "source": [
    "df_tag = (spark.read\n",
    "             .format('csv')\n",
    "             .option('header','true')\n",
    "             .option('delimiter',\",\")\n",
    "             .option('inferSchema','true')#assigns correct data types to columns otherwise we read them as strings\n",
    "             .load(\"C:/MovieLens20M_dataset/tag.csv\"))"
   ]
  },
  {
   "cell_type": "code",
   "execution_count": 88,
   "id": "extra-destiny",
   "metadata": {},
   "outputs": [],
   "source": [
    "df_genome_tags = (spark.read\n",
    "             .format('csv')\n",
    "             .option('header','true')\n",
    "             .option('delimiter',\",\")\n",
    "             .option('inferSchema','true')#assigns correct data types to columns otherwise we read them as strings\n",
    "             .load(\"C:/MovieLens20M_dataset/genome_tags.csv\"))"
   ]
  },
  {
   "cell_type": "code",
   "execution_count": 92,
   "id": "verified-ambassador",
   "metadata": {},
   "outputs": [],
   "source": [
    "df_rating.show(5)"
   ]
  },
  {
   "cell_type": "code",
   "execution_count": 93,
   "id": "breathing-eight",
   "metadata": {},
   "outputs": [],
   "source": [
    "df_tag.show(5)"
   ]
  },
  {
   "cell_type": "code",
   "execution_count": 94,
   "id": "instant-papua",
   "metadata": {},
   "outputs": [],
   "source": [
    "df_genome_tags.show(5)"
   ]
  },
  {
   "cell_type": "markdown",
   "id": "adolescent-circumstances",
   "metadata": {},
   "source": [
    "# Query 1-Find number of users that watched the movie \"Jumanji\""
   ]
  },
  {
   "cell_type": "code",
   "execution_count": 95,
   "id": "forced-stopping",
   "metadata": {},
   "outputs": [],
   "source": [
    "stagemetrics.begin()\n",
    "\n",
    "joinedq1 = df_movies.filter(df_movies.title.like(\"%Jumanji%\")).join(df_rating, df_rating[\"movieId\"] == df_movies[\"movieId\"], \"inner\").drop(df_rating.movieId).select(df_rating['userId'],df_movies[\"title\"]).groupBy(df_rating.userId).count().agg(sum(col('count')))\n",
    "joinedq1.select(col('sum(count)').alias('Jumanji_viewers')).show()\n",
    "\n",
    "stagemetrics.end()\n",
    "stagemetrics.print_report()"
   ]
  },
  {
   "cell_type": "markdown",
   "id": "traditional-driving",
   "metadata": {},
   "source": [
    "# Query 2-Find the movie names that users reviewed as \"boring\""
   ]
  },
  {
   "cell_type": "code",
   "execution_count": 46,
   "id": "pursuant-pride",
   "metadata": {},
   "outputs": [],
   "source": [
    "\n",
    "#lower the tag column\n",
    "df_low=df_tag.withColumn(\"tag\", lower(col(\"tag\")))#;\n"
   ]
  },
  {
   "cell_type": "code",
   "execution_count": 47,
   "id": "precise-munich",
   "metadata": {},
   "outputs": [],
   "source": [
    "df_low_clr = df_low.select(col('userId'),col('movieId'),regexp_replace(df_low.tag,'[^a-zA-Z0-9]',\"\").alias('tag_clr'))#we clear any special characters around 'boring' and we will ignore complex sentences containing boring like 'boring plot' etc->paradoxi"
   ]
  },
  {
   "cell_type": "code",
   "execution_count": 96,
   "id": "raising-slovenia",
   "metadata": {},
   "outputs": [],
   "source": [
    "stagemetrics.begin()\n",
    "\n",
    "joinq2 = df_movies.join(df_low_clr,df_movies['movieId'] == df_low_clr['movieId'],'inner').drop(df_movies.movieId).filter(df_low_clr.tag_clr.like('boring')).dropDuplicates(subset=['movieId']).select(col('userId'),col('movieId'),col('title'),col('tag_clr').alias('tag')).orderBy(col('title').asc()).show(truncate=False) #.dropDuplicates(subset=['movieId'])\n",
    "\n",
    "stagemetrics.end()\n",
    "stagemetrics.print_report()\n"
   ]
  },
  {
   "cell_type": "markdown",
   "id": "retained-fitness",
   "metadata": {},
   "source": [
    "# Query 3-Find users(users id's) that have rated movies 'Bollywood' and have given rating >3"
   ]
  },
  {
   "cell_type": "code",
   "execution_count": 98,
   "id": "digital-teach",
   "metadata": {},
   "outputs": [],
   "source": [
    "df3_ratings = df_rating.filter(df_rating.rating > 3).select(df_rating.userId,df_rating.rating)\n",
    "df_tagboll = df_low_clr.filter(df_low_clr.tag_clr.like('bollywood')).select(df_low_clr.movieId,df_low_clr.userId,df_low_clr.tag_clr.alias('tag'))\n",
    "\n",
    "stagemetrics.begin()\n",
    "\n",
    "join3_ratag = (df3_ratings.join(df_tagboll,df3_ratings['userId'] == df_tagboll['userId'],\"inner\")\\\n",
    "                           .drop(df3_ratings.userId).select(df_tagboll.movieId,df_tagboll['userId'].alias(\"userIdJoined\"),df_tagboll['tag'],df_rating['rating'])).dropDuplicates(subset = ['userIdJoined']).orderBy(col('userIdJoined').asc()).show(truncate=False)\n",
    "\n",
    "stagemetrics.end()\n",
    "stagemetrics.print_report()\n"
   ]
  },
  {
   "cell_type": "markdown",
   "id": "hybrid-favorite",
   "metadata": {},
   "source": [
    "# Query 4"
   ]
  },
  {
   "cell_type": "code",
   "execution_count": 99,
   "id": "varied-priority",
   "metadata": {},
   "outputs": [],
   "source": [
    "df_rating.groupby().max('rating').collect()[0] #find max rating which it results to be 5.0"
   ]
  },
  {
   "cell_type": "code",
   "execution_count": 100,
   "id": "sufficient-hebrew",
   "metadata": {},
   "outputs": [],
   "source": [
    "stagemetrics.begin()\n",
    "\n",
    "rating_years = df_rating.select(df_rating.movieId,year(df_rating.timestamp).alias('rate_year'),df_rating.rating)\n",
    "rating_years_q = rating_years.join(df_movies,rating_years['movieId'] == df_movies['movieId'],'inner').drop(df_movies.movieId).groupBy(col('title'),col('rate_year')).avg('rating').withColumn(\"rating_rank\",row_number().over(Window.partitionBy(\"rate_year\").orderBy(col('avg(rating)').desc()))).orderBy(col('rate_year').asc()).filter(col('rating_rank')<=10).withColumn(\"alphab_rank\",row_number().over(Window.partitionBy(\"rate_year\").orderBy(col('title').asc())))#.dropDuplicates(subset=['title'])\n",
    "rating_years_q.show(truncate=False)\n",
    "\n",
    "stagemetrics.end()\n",
    "stagemetrics.print_report()"
   ]
  },
  {
   "cell_type": "code",
   "execution_count": 101,
   "id": "disabled-signal",
   "metadata": {},
   "outputs": [],
   "source": [
    "rating_years_q.filter(col('rate_year') == 2005).show(truncate=False)"
   ]
  },
  {
   "cell_type": "markdown",
   "id": "continued-uniform",
   "metadata": {},
   "source": [
    "# QUERY 5"
   ]
  },
  {
   "cell_type": "code",
   "execution_count": 102,
   "id": "alone-configuration",
   "metadata": {},
   "outputs": [],
   "source": [
    "stagemetrics.begin()\n",
    "df_join5 =  df_movies.join(df_tag,df_movies['movieId'] == df_tag['movieId'],'inner').select(df_tag['tag'],df_movies['title'],df_tag.timestamp)"
   ]
  },
  {
   "cell_type": "code",
   "execution_count": 103,
   "id": "short-radio",
   "metadata": {},
   "outputs": [],
   "source": [
    "df_join5_conc = df_join5.filter(year(df_join5.timestamp)==2015).groupBy(col(\"title\")).agg(collect_list(col(\"tag\")).alias('tag')).withColumn(\"tag\", concat_ws(\",\", col(\"tag\"))).orderBy(col('title').asc()).show(truncate=False)\n",
    "\n",
    "stagemetrics.end()\n",
    "stagemetrics.print_report()"
   ]
  },
  {
   "cell_type": "markdown",
   "id": "placed-conditioning",
   "metadata": {},
   "source": [
    "# QUERY 6"
   ]
  },
  {
   "cell_type": "code",
   "execution_count": 104,
   "id": "literary-advantage",
   "metadata": {},
   "outputs": [],
   "source": [
    "stagemetrics.begin()\n",
    "\n",
    "join6q = df_movies.join(df_rating, df_movies['movieId'] == df_rating['movieId'],\"inner\").drop(df_rating.movieId).groupBy(df_movies.title).count().orderBy(col(\"count\").desc()).show(truncate=False)\n",
    "\n",
    "\n",
    "stagemetrics.end()\n",
    "stagemetrics.print_report()"
   ]
  },
  {
   "cell_type": "markdown",
   "id": "supported-vessel",
   "metadata": {},
   "source": [
    "# Query 7 Find the top 10 users each year with the most ratings"
   ]
  },
  {
   "cell_type": "code",
   "execution_count": 105,
   "id": "rolled-inspector",
   "metadata": {},
   "outputs": [],
   "source": [
    "stagemetrics.begin()\n",
    "\n",
    "count_ratings = df_rating.groupBy(col('userId'),year(df_rating.timestamp)).count().select(col('userId'),col('year(timestamp)').alias('rating_year'),col('count').cast('int').alias('rating_count')).withColumn('count_rank',row_number().over(Window.partitionBy('rating_year').orderBy(col('rating_count').desc()))).orderBy(col('rating_year').asc()).filter(col('count_rank')<=10).withColumn('id_alphab_rank',row_number().over(Window.partitionBy('rating_year').orderBy(col('userId').asc())))\n",
    "count_ratings.show(truncate=False)\n",
    "\n",
    "stagemetrics.end()\n",
    "stagemetrics.print_report()"
   ]
  },
  {
   "cell_type": "code",
   "execution_count": 106,
   "id": "comprehensive-perspective",
   "metadata": {},
   "outputs": [],
   "source": [
    "count_ratings.filter(col('rating_year') == 1995).show()#na metrieseis to pano query gia xrono kai na parathesei ta edo apotelesmata gia ta top 10"
   ]
  },
  {
   "cell_type": "markdown",
   "id": "designed-pulse",
   "metadata": {},
   "source": [
    "# Query 8"
   ]
  },
  {
   "cell_type": "code",
   "execution_count": 68,
   "id": "tender-immigration",
   "metadata": {},
   "outputs": [],
   "source": [
    "movies_genres = df_movies.withColumn(\"genres\",explode(split(\"genres\",\"[|]\")))#take distinct genres apart for each movie in case it has more than one "
   ]
  },
  {
   "cell_type": "code",
   "execution_count": 69,
   "id": "round-punishment",
   "metadata": {},
   "outputs": [],
   "source": [
    "genres_nodupes = movies_genres.dropDuplicates(subset=['movieId']).filter(~col('genres').like('%(no genres listed)%')).orderBy(col('movieId').asc())#takes the first genre in each movie and drops the rest,because if any movie has one or more genres the extras will be dropped except the first genre\n",
    "#also we exlude the (no genres listed) records->paradoxi"
   ]
  },
  {
   "cell_type": "code",
   "execution_count": 107,
   "id": "chicken-sellers",
   "metadata": {},
   "outputs": [],
   "source": [
    "stagemetrics.begin()\n",
    "rating_group = df_rating.groupBy(df_rating.movieId).count()\n",
    "\n",
    "quer8_join = genres_nodupes.join(rating_group,rating_group['movieId'] == genres_nodupes['movieId'],\"inner\").drop(genres_nodupes.movieId).dropDuplicates(subset=['movieId']).withColumn(\"count_rtng_rank\",row_number().over(Window.partitionBy(\"genres\").orderBy(col('count').desc()))).filter(col('count_rtng_rank')==1).orderBy(col(\"genres\").asc())"
   ]
  },
  {
   "cell_type": "code",
   "execution_count": 108,
   "id": "minor-advocacy",
   "metadata": {},
   "outputs": [],
   "source": [
    "quer8_join.show(truncate=False)\n",
    "\n",
    "stagemetrics.end()\n",
    "stagemetrics.print_report()"
   ]
  },
  {
   "cell_type": "markdown",
   "id": "assumed-dealing",
   "metadata": {},
   "source": [
    "# Query 9"
   ]
  },
  {
   "cell_type": "code",
   "execution_count": 78,
   "id": "historic-india",
   "metadata": {},
   "outputs": [],
   "source": [
    "df_rating.createOrReplaceTempView(\"rating_sql\")"
   ]
  },
  {
   "cell_type": "code",
   "execution_count": 109,
   "id": "current-parcel",
   "metadata": {},
   "outputs": [],
   "source": [
    "stagemetrics.begin()\n",
    "df_hour_day = df_rating.select(col('movieId'),col('userId'),regexp_extract(df_rating.timestamp,'\\d\\d\\d\\d\\-\\\\d\\d\\-\\\\d\\d\\\\s\\d\\d',0).alias('day_hour')).groupBy(col('movieId'),col('day_hour')).count().filter(col('count')>1).agg(sum(col('count'))).show()\n",
    "#returns the number of users that watch the same movie the same hour and day \n",
    "stagemetrics.end()\n",
    "stagemetrics.print_report()"
   ]
  },
  {
   "cell_type": "markdown",
   "id": "bizarre-filing",
   "metadata": {},
   "source": [
    "# Query 10 "
   ]
  },
  {
   "cell_type": "code",
   "execution_count": 110,
   "id": "assisted-partnership",
   "metadata": {},
   "outputs": [],
   "source": [
    "stagemetrics.begin()#we again take into account the first genre for a movie if it belongs to more than one in this query,also for the funny tag we ignore complex sentences with funny like: funny <complex_sentence>+,we take into consideration terms like funny and those that had some form of exclamation or other special characters before or after them see df_low_clr->paradoxi\n",
    "\n",
    "join_movies10 = df_low_clr.join(genres_nodupes,df_low_clr['movieId']  == genres_nodupes['movieId']).drop(genres_nodupes.movieId)"
   ]
  },
  {
   "cell_type": "code",
   "execution_count": 111,
   "id": "induced-decade",
   "metadata": {},
   "outputs": [],
   "source": [
    "df_q10 = df_rating.join(join_movies10,df_rating['movieId'] == join_movies10['movieId'],'inner').drop(df_rating.movieId).filter(col('rating')>3.5).filter(join_movies10.tag_clr.like(\"funny\")).dropDuplicates(subset=['movieId']).groupBy(col('genres')).count().orderBy(col('genres').asc())#i to count.desc() an thes diatiaxi me basi to count,edo to kanoume alphabitika me basi ta onomata ton genres"
   ]
  },
  {
   "cell_type": "code",
   "execution_count": 112,
   "id": "jewish-roots",
   "metadata": {},
   "outputs": [],
   "source": [
    "df_q10.show(truncate=False)\n",
    "stagemetrics.end()\n",
    "stagemetrics.print_report()"
   ]
  }
 ],
 "metadata": {
  "kernelspec": {
   "display_name": "Python 3",
   "language": "python",
   "name": "python3"
  },
  "language_info": {
   "codemirror_mode": {
    "name": "ipython",
    "version": 3
   },
   "file_extension": ".py",
   "mimetype": "text/x-python",
   "name": "python",
   "nbconvert_exporter": "python",
   "pygments_lexer": "ipython3",
   "version": "3.6.13"
  }
 },
 "nbformat": 4,
 "nbformat_minor": 5
}
